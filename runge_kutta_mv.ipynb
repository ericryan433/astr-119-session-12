{
 "cells": [
  {
   "cell_type": "markdown",
   "metadata": {},
   "source": [
    "# Create a notebook to perform Runge-Kutta integration for multiple coupled variables"
   ]
  },
  {
   "cell_type": "code",
   "execution_count": 3,
   "metadata": {},
   "outputs": [],
   "source": [
    "%matplotlib inline\n",
    "import numpy as np\n",
    "import matplotlib.pyplot as plt"
   ]
  },
  {
   "cell_type": "markdown",
   "metadata": {},
   "source": [
    "## Define our coupled derivatives to integrate"
   ]
  },
  {
   "cell_type": "code",
   "execution_count": 8,
   "metadata": {},
   "outputs": [],
   "source": [
    "def dydx(x,y):\n",
    "    \n",
    "    # Set the derivatives \n",
    "    \n",
    "    # Our equation is d^2y/dx^2 = -y\n",
    "    \n",
    "    # So we can write\n",
    "    # dydx = z\n",
    "    # dzdx = -y\n",
    "    \n",
    "    # We will set y = y[0]\n",
    "    # We will sey z = y[1]\n",
    "    \n",
    "    # Declare an array\n",
    "    y_derivs = np.zeros(2)\n",
    "    \n",
    "    # Set dydx = x\n",
    "    y_derivs[0] = y[1]\n",
    "    \n",
    "    # Set dzdx = -y\n",
    "    y_derivs[1] = -1*y[0]\n",
    "    \n",
    "    # Here we have to return the arrays of dydx\n",
    "    return y_derivs"
   ]
  },
  {
   "cell_type": "markdown",
   "metadata": {},
   "source": [
    "## Define the 4th order RK method"
   ]
  },
  {
   "cell_type": "code",
   "execution_count": 9,
   "metadata": {},
   "outputs": [],
   "source": [
    "def rk4_mv_core(dydx,xi,yi,nv,h):\n",
    "    \n",
    "    # Declare k? arrays\n",
    "    k1 = np.zeros(nv)\n",
    "    k2 = np.zeros(nv)\n",
    "    k3 = np.zeros(nv)\n",
    "    k4 = np.zeros(nv)\n",
    "    \n",
    "    # Define x at 1/2 step\n",
    "    x_ipoh = xi + 0.5*h\n",
    "    \n",
    "    # Define x at 1 step \n",
    "    x_ipo = xi + h\n",
    "    \n",
    "    # Declare a tempy array\n",
    "    y_temp = np.zeros(nv)\n",
    "    \n",
    "    # Get k1 values\n",
    "    y_derivs = dydx(xi,yi)\n",
    "    k1[:] = h*y_derivs[:]\n",
    "    \n",
    "    # Get k2 values\n",
    "    y_temp[:] = yi[:] + 0.5*k1[:]\n",
    "    y_derivs = dydx(x_ipoh,y_temp)\n",
    "    k2[:] = h*y_derivs[:]\n",
    "    \n",
    "    # Get k3 values\n",
    "    y_temp[:] = yi[:] + 0.5*k2[:]\n",
    "    y_derivs = dydx(x_ipoh,y_temp)\n",
    "    k3[:] = h*y_derivs[:]\n",
    "    \n",
    "    # Get k4 values\n",
    "    y_temp[:] = yi[:] + k3[:]\n",
    "    y_derivs = dydx(x_ipo,y_temp)\n",
    "    k4[:] = h*y_derivs[:]\n",
    "    \n",
    "    # Advance y by step h\n",
    "    yipo = yi + (k1 + 2*k2 + 2*k3 + k4)/6.\n",
    "    \n",
    "    # THIS IS AN ARRAY\n",
    "    return yipo"
   ]
  },
  {
   "cell_type": "markdown",
   "metadata": {},
   "source": [
    "## Define an adaptive step size driver for RK4"
   ]
  },
  {
   "cell_type": "code",
   "execution_count": 10,
   "metadata": {},
   "outputs": [],
   "source": [
    "def rk4_mv_ad(dydx,x_i,y_i,nv,h,tol):\n",
    "    \n",
    "    # Define safety scale\n",
    "    SAFETY = 0.9\n",
    "    H_NEW_FAC = 2.0\n",
    "    \n",
    "    # Set a maximum number of iterations\n",
    "    imax = 10000\n",
    "    \n",
    "    # Set an iteration variable\n",
    "    i = 0 \n",
    "    \n",
    "    # Create an error \n",
    "    Delta = np.full(nv,2*tol)\n",
    "    \n",
    "    # Remember the step\n",
    "    h_step = h\n",
    "    \n",
    "    # Adjust the step\n",
    "    while(Delta.max()/tol > 1.0):\n",
    "        \n",
    "        # Estimate our error by taking one step of size h\n",
    "        # vs. two steps of size h/2\n",
    "        y_2 = rk4_mv_core(dydx,x_i,y_i,nv,h_step)\n",
    "        y_1 = rk4_mv_core(dydx,x_i,y_i,nv,0.5*h_step)\n",
    "        y_11 = rk4_mv_core(dydx,x_i+0.5*h_step,y_i,nv,0.5*h_step)\n",
    "        \n",
    "        # Compute an error\n",
    "        Delta = np.fabs(y_2 - y_11)\n",
    "        \n",
    "        # If error is too latge, take a smaller step\n",
    "        if(Delta.max()/tol > 1.0):\n",
    "            \n",
    "            # Our error is too large, decrease the step\n",
    "            h_step *= SAFETY * (Delta.max()/tol)**(-0.25)\n",
    "            \n",
    "        # Check the iteration\n",
    "        if(i>imax):\n",
    "            print(\"Too many iterations in rk4_mv_ad()\")\n",
    "            raise StopIteration(\"Ending after i = \",i)\n",
    "            \n",
    "        # Iterate\n",
    "        i += 1 \n",
    "        \n",
    "    # Next time, try to take a bigger step\n",
    "    h_new= np.fmin(h_step * (Delta.max()/tol)**(-0.9), h_step*H_NEW_PAC)\n",
    "    \n",
    "    # Return the answer, a new step, and the step we actually took\n",
    "    return y_2, h_new, h_step"
   ]
  },
  {
   "cell_type": "markdown",
   "metadata": {},
   "source": [
    "## Define a wrapper for RK4"
   ]
  },
  {
   "cell_type": "code",
   "execution_count": null,
   "metadata": {},
   "outputs": [],
   "source": [
    "def rk4_mv(dydx,a,b,y_a,tol):\n",
    "    \n",
    "    # dydx is the derivative wrt x\n",
    "    # a is the lower bound\n",
    "    # b is the upper bound \n",
    "    # y_a are the boundary conditions\n",
    "    # tol is the tolerance for integrating y\n",
    "    \n",
    "    # Define our starting step\n",
    "    xi = a\n",
    "    yi = y_a.cop()\n",
    "    \n",
    "    # An initial step size == make very small\n",
    "    h = 1.0e-4 * (b-a)\n",
    "    \n",
    "    # Set a maximum number of iterations\n",
    "    imax = 10000\n",
    "    \n",
    "    # Set an iteration variable\n",
    "    i = 0 \n",
    "    \n",
    "    # Set the number of coupled odes to the size of y_a\n",
    "    nv = len(y_a)\n",
    "    \n",
    "    # Set the initial conditions\n",
    "    x = np.full(1,a)\n",
    "    y = np.full((1,nv),y_a)\n",
    "    \n",
    "    # Set a flag\n",
    "    flag = 1\n",
    "    \n",
    "    # Loop until we reach the right side\n",
    "    while(flag):\n",
    "        \n",
    "        # Calculate y_i+1\n",
    "        yi_new, h_new, h_step = rk4_mv_ad(dydx,di,yi,nv,h,tol)\n",
    "        \n",
    "        #Break\n",
    "        flag = 0 \n",
    "        \n",
    "    "
   ]
  }
 ],
 "metadata": {
  "kernelspec": {
   "display_name": "Python 3",
   "language": "python",
   "name": "python3"
  },
  "language_info": {
   "codemirror_mode": {
    "name": "ipython",
    "version": 3
   },
   "file_extension": ".py",
   "mimetype": "text/x-python",
   "name": "python",
   "nbconvert_exporter": "python",
   "pygments_lexer": "ipython3",
   "version": "3.6.5"
  }
 },
 "nbformat": 4,
 "nbformat_minor": 2
}
